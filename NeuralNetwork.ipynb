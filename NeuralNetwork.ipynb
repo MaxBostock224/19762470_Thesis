{
  "nbformat": 4,
  "nbformat_minor": 0,
  "metadata": {
    "colab": {
      "provenance": []
    },
    "kernelspec": {
      "name": "python3",
      "display_name": "Python 3"
    },
    "language_info": {
      "name": "python"
    }
  },
  "cells": [
    {
      "cell_type": "markdown",
      "source": [
        "\n",
        "Code adapted from example provided in:\n",
        "https://www.datacamp.com/tutorial/decision-tree-classification-python\n"
      ],
      "metadata": {
        "id": "gLtgQne_A7Pg"
      }
    },
    {
      "cell_type": "code",
      "source": [
        "!pip install skl2onnx"
      ],
      "metadata": {
        "colab": {
          "base_uri": "https://localhost:8080/"
        },
        "id": "0OfRgCMCMRor",
        "outputId": "8359fb30-e635-4d2e-9f02-e89a861d6ab0"
      },
      "execution_count": null,
      "outputs": [
        {
          "output_type": "stream",
          "name": "stdout",
          "text": [
            "Requirement already satisfied: skl2onnx in /usr/local/lib/python3.10/dist-packages (1.17.0)\n",
            "Requirement already satisfied: onnx>=1.2.1 in /usr/local/lib/python3.10/dist-packages (from skl2onnx) (1.17.0)\n",
            "Requirement already satisfied: scikit-learn>=1.1 in /usr/local/lib/python3.10/dist-packages (from skl2onnx) (1.5.2)\n",
            "Requirement already satisfied: onnxconverter-common>=1.7.0 in /usr/local/lib/python3.10/dist-packages (from skl2onnx) (1.14.0)\n",
            "Requirement already satisfied: numpy>=1.20 in /usr/local/lib/python3.10/dist-packages (from onnx>=1.2.1->skl2onnx) (1.26.4)\n",
            "Requirement already satisfied: protobuf>=3.20.2 in /usr/local/lib/python3.10/dist-packages (from onnx>=1.2.1->skl2onnx) (3.20.2)\n",
            "Requirement already satisfied: packaging in /usr/local/lib/python3.10/dist-packages (from onnxconverter-common>=1.7.0->skl2onnx) (24.1)\n",
            "Requirement already satisfied: scipy>=1.6.0 in /usr/local/lib/python3.10/dist-packages (from scikit-learn>=1.1->skl2onnx) (1.13.1)\n",
            "Requirement already satisfied: joblib>=1.2.0 in /usr/local/lib/python3.10/dist-packages (from scikit-learn>=1.1->skl2onnx) (1.4.2)\n",
            "Requirement already satisfied: threadpoolctl>=3.1.0 in /usr/local/lib/python3.10/dist-packages (from scikit-learn>=1.1->skl2onnx) (3.5.0)\n"
          ]
        }
      ]
    },
    {
      "cell_type": "code",
      "execution_count": null,
      "metadata": {
        "id": "EvsDIJ4awPyb",
        "colab": {
          "base_uri": "https://localhost:8080/"
        },
        "outputId": "9d84e3d3-69a4-4e49-bac2-2c115469ef17"
      },
      "outputs": [
        {
          "output_type": "stream",
          "name": "stdout",
          "text": [
            "Drive already mounted at /content/drive/; to attempt to forcibly remount, call drive.mount(\"/content/drive/\", force_remount=True).\n"
          ]
        }
      ],
      "source": [
        "import pandas as pd\n",
        "\n",
        "from sklearn.neural_network import MLPClassifier\n",
        "from sklearn.model_selection import train_test_split\n",
        "from sklearn.metrics import confusion_matrix, ConfusionMatrixDisplay\n",
        "from sklearn import metrics\n",
        "from google.colab import drive\n",
        "from skl2onnx import to_onnx\n",
        "\n",
        "drive.mount('/content/drive/')\n",
        "path = 'replace with path to folder with data files/' #Defining the path"
      ]
    },
    {
      "cell_type": "code",
      "source": [
        "columnNames = ['CH1','LABEL']\n",
        "csvData = pd.read_csv(path+'SensorData.csv',names=columnNames)\n",
        "\n",
        "sensors = ['CH1'] # The channel containing sensor data, i.e. the independent variables\n",
        "x = csvData[sensors]  # The independent variables (i.e. the EMG signals) from each channel that reflect either rest or muscle activation\n",
        "y = csvData.LABEL # The dependent variable, which states whether the corresponding data is 'positive' or 'negative'\n",
        "\n",
        "x_train, x_test, y_train, y_test = train_test_split(x, y, test_size=0.2)  # Splits up the data into training and testing groups"
      ],
      "metadata": {
        "id": "KmSiKVmx2ep-"
      },
      "execution_count": null,
      "outputs": []
    },
    {
      "cell_type": "code",
      "source": [
        "# Creates the MLP neural network\n",
        "# Code based on documentation example: https://scikit-learn.org/stable/modules/neural_networks_supervised.html\n",
        "clf = MLPClassifier(solver='adam',alpha=1e-5,hidden_layer_sizes=(5,2),max_iter=500)\n",
        "clf.fit(x_train,y_train)  # Trains the MLP neural network on the training data\n",
        "\n",
        "# This block of code saves the model to an ONNX file in the same drive folder as the data files.\n",
        "# Code based on documentation example:  https://onnx.ai/sklearn-onnx/index.html\n",
        "onx = to_onnx(clf, x[:1])\n",
        "with open(path+\"nnetwork.onnx\", \"wb\") as f:\n",
        "    f.write(onx.SerializeToString())"
      ],
      "metadata": {
        "id": "pRuNePXw21t5"
      },
      "execution_count": null,
      "outputs": []
    },
    {
      "cell_type": "code",
      "source": [
        "y_pred = clf.predict(x_test)  # Test the data against the test dataset\n",
        "\n",
        "cf = confusion_matrix(y_test, y_pred, labels=clf.classes_)  # Creates a confusion matrix object using the test results\n",
        "conf_display = ConfusionMatrixDisplay(confusion_matrix = cf, display_labels = clf.classes_) # Loads the confusion matrix into a display\n",
        "\n",
        "print(\"Accuracy:\",metrics.accuracy_score(y_test, y_pred)) # Displays the accuracy of the model\n",
        "conf_display.plot() # Plots the confusion matrix"
      ],
      "metadata": {
        "colab": {
          "base_uri": "https://localhost:8080/",
          "height": 484
        },
        "id": "xaYVb-Lu4LcR",
        "outputId": "63e43752-3b6e-40e6-f117-25f0f5684fb1"
      },
      "execution_count": null,
      "outputs": [
        {
          "output_type": "stream",
          "name": "stdout",
          "text": [
            "Accuracy: 0.818773032733579\n"
          ]
        },
        {
          "output_type": "execute_result",
          "data": {
            "text/plain": [
              "<sklearn.metrics._plot.confusion_matrix.ConfusionMatrixDisplay at 0x7ab4b51a7610>"
            ]
          },
          "metadata": {},
          "execution_count": 5
        },
        {
          "output_type": "display_data",
          "data": {
            "text/plain": [
              "<Figure size 640x480 with 2 Axes>"
            ],
            "image/png": "[encoded data removed]"
          },
          "metadata": {}
        }
      ]
    }
  ]
}
