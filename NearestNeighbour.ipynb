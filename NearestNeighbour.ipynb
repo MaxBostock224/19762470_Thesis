{
  "nbformat": 4,
  "nbformat_minor": 0,
  "metadata": {
    "colab": {
      "provenance": []
    },
    "kernelspec": {
      "name": "python3",
      "display_name": "Python 3"
    },
    "language_info": {
      "name": "python"
    }
  },
  "cells": [
    {
      "cell_type": "markdown",
      "source": [
        "Code adapted from example provided by Navlani (2024)."
      ],
      "metadata": {
        "id": "Aq9UueTgB-J9"
      }
    },
    {
      "cell_type": "code",
      "source": [
        "!pip install skl2onnx"
      ],
      "metadata": {
        "colab": {
          "base_uri": "https://localhost:8080/"
        },
        "id": "OMQPH0rSNC9G",
        "outputId": "45fd1696-1bf3-436c-8ed0-c97de2b925c8"
      },
      "execution_count": null,
      "outputs": [
        {
          "output_type": "stream",
          "name": "stdout",
          "text": [
            "Requirement already satisfied: skl2onnx in /usr/local/lib/python3.10/dist-packages (1.17.0)\n",
            "Requirement already satisfied: onnx>=1.2.1 in /usr/local/lib/python3.10/dist-packages (from skl2onnx) (1.17.0)\n",
            "Requirement already satisfied: scikit-learn>=1.1 in /usr/local/lib/python3.10/dist-packages (from skl2onnx) (1.5.2)\n",
            "Requirement already satisfied: onnxconverter-common>=1.7.0 in /usr/local/lib/python3.10/dist-packages (from skl2onnx) (1.14.0)\n",
            "Requirement already satisfied: numpy>=1.20 in /usr/local/lib/python3.10/dist-packages (from onnx>=1.2.1->skl2onnx) (1.26.4)\n",
            "Requirement already satisfied: protobuf>=3.20.2 in /usr/local/lib/python3.10/dist-packages (from onnx>=1.2.1->skl2onnx) (3.20.2)\n",
            "Requirement already satisfied: packaging in /usr/local/lib/python3.10/dist-packages (from onnxconverter-common>=1.7.0->skl2onnx) (24.1)\n",
            "Requirement already satisfied: scipy>=1.6.0 in /usr/local/lib/python3.10/dist-packages (from scikit-learn>=1.1->skl2onnx) (1.13.1)\n",
            "Requirement already satisfied: joblib>=1.2.0 in /usr/local/lib/python3.10/dist-packages (from scikit-learn>=1.1->skl2onnx) (1.4.2)\n",
            "Requirement already satisfied: threadpoolctl>=3.1.0 in /usr/local/lib/python3.10/dist-packages (from scikit-learn>=1.1->skl2onnx) (3.5.0)\n"
          ]
        }
      ]
    },
    {
      "cell_type": "code",
      "execution_count": null,
      "metadata": {
        "colab": {
          "base_uri": "https://localhost:8080/"
        },
        "id": "TQbEV1pkLVjF",
        "outputId": "1a70f59c-7a72-4c61-f085-0e9028a969ae"
      },
      "outputs": [
        {
          "output_type": "stream",
          "name": "stdout",
          "text": [
            "Drive already mounted at /content/drive/; to attempt to forcibly remount, call drive.mount(\"/content/drive/\", force_remount=True).\n"
          ]
        }
      ],
      "source": [
        "import pandas as pd\n",
        "from sklearn.neighbors import KNeighborsClassifier\n",
        "from sklearn.model_selection import train_test_split\n",
        "from sklearn.metrics import confusion_matrix, ConfusionMatrixDisplay\n",
        "from sklearn import metrics\n",
        "from sklearn import tree\n",
        "from skl2onnx import to_onnx\n",
        "\n",
        "from google.colab import drive\n",
        "\n",
        "drive.mount('/content/drive/')\n",
        "path = 'replace with path to folder with data files/' #Defining the path"
      ]
    },
    {
      "cell_type": "code",
      "source": [
        "col_names = ['CH1','LABEL']\n",
        "csvData = pd.read_csv(path+\"SensorData.csv\", header=None, names=col_names)\n",
        "\n",
        "sensors = ['CH1']  # The channel containing sensor data, i.e. the independent variables\n",
        "X = csvData[sensors] # The independent variables (i.e. the EMG signals) from each channel that reflect either rest or muscle activation\n",
        "Y = csvData.LABEL # The dependent variable, which states whether the corresponding data is 'positive' or 'negative'"
      ],
      "metadata": {
        "id": "MMhgXkt0X1EP"
      },
      "execution_count": null,
      "outputs": []
    },
    {
      "cell_type": "code",
      "source": [
        "X_train, X_test, Y_train, Y_test = train_test_split(X, Y, test_size=0.2) # 80% training and 20% test\n",
        "\n",
        "K_neighbour = KNeighborsClassifier(n_neighbors = 5) # Creates the KNN classifier object\n",
        "\n"
      ],
      "metadata": {
        "id": "vsLkuuHWX7jE"
      },
      "execution_count": null,
      "outputs": []
    },
    {
      "cell_type": "code",
      "source": [
        "K_neighbour.fit(X_train,Y_train)  # Trains the KNN classifier on the training dataset\n",
        "\n",
        "# This block of code saves the model to an ONNX file in the same drive folder as the data files.\n",
        "# Code based on documentation example (ONNX, n.d.)\n",
        "onx = to_onnx(K_neighbour, X[:1])\n",
        "with open(path+\"nneighbour.onnx\", \"wb\") as f:\n",
        "    f.write(onx.SerializeToString())"
      ],
      "metadata": {
        "id": "deArM5ZHYWxD"
      },
      "execution_count": null,
      "outputs": []
    },
    {
      "cell_type": "code",
      "source": [
        "Y_pred = K_neighbour.predict(X_test)  # Tests the data against the test dataset\n",
        "\n",
        "\n",
        "cf = confusion_matrix(Y_test, Y_pred, labels=K_neighbour.classes_)  # Creates a confusion matrix object using the test results\n",
        "conf_display = ConfusionMatrixDisplay(confusion_matrix = cf, display_labels = K_neighbour.classes_) # Loads the confusion matrix into a display\n",
        "\n",
        "print(\"Accuracy:\",metrics.accuracy_score(Y_test, Y_pred)) # Displays prediction accuracy\n",
        "conf_display.plot() # Plots the confusion matrix"
      ],
      "metadata": {
        "colab": {
          "base_uri": "https://localhost:8080/",
          "height": 484
        },
        "id": "uPqgsIHYYe6X",
        "outputId": "e73e15c6-8d72-4db1-ae5c-f69c65b17ea8"
      },
      "execution_count": null,
      "outputs": [
        {
          "output_type": "stream",
          "name": "stdout",
          "text": [
            "Accuracy: 0.9473227834381097\n"
          ]
        },
        {
          "output_type": "execute_result",
          "data": {
            "text/plain": [
              "<sklearn.metrics._plot.confusion_matrix.ConfusionMatrixDisplay at 0x78f9f3fce410>"
            ]
          },
          "metadata": {},
          "execution_count": 8
        },
        {
          "output_type": "display_data",
          "data": {
            "text/plain": [
              "<Figure size 640x480 with 2 Axes>"
            ],
            "image/png": "[encoded data removed]"
          },
          "metadata": {}
        }
      ]
    },
    {
      "cell_type": "markdown",
      "source": [
        "Bibliography:\n",
        "\n",
        "Navlani, A 2024, *Decision Tree Classification in Python Tutorial*, datacamp, viewed 28 October 2024, https://www.datacamp.com/tutorial/decision-tree-classification-python\n",
        "\n",
        "ONNX n.d., *sklearn-onnx: Convert your scikit-learn model into ONNX*,\n",
        "sklearn-onnx, viewed 28 October 2024, https://onnx.ai/sklearn-onnx/index.html"
      ],
      "metadata": {
        "id": "vZkl6ZckOpuD"
      }
    }
  ]
}