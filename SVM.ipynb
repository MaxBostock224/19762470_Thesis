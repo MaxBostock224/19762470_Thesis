{
  "nbformat": 4,
  "nbformat_minor": 0,
  "metadata": {
    "colab": {
      "provenance": []
    },
    "kernelspec": {
      "name": "python3",
      "display_name": "Python 3"
    },
    "language_info": {
      "name": "python"
    }
  },
  "cells": [
    {
      "cell_type": "markdown",
      "source": [
        "Code adapted from example provided in: https://www.datacamp.com/tutorial/decision-tree-classification-python"
      ],
      "metadata": {
        "id": "ny05TA8NCsfP"
      }
    },
    {
      "cell_type": "code",
      "source": [
        "!pip install skl2onnx"
      ],
      "metadata": {
        "colab": {
          "base_uri": "https://localhost:8080/"
        },
        "id": "r9S_G1UAN6_O",
        "outputId": "dc8565a0-1ed3-4eeb-9415-6b6058f56840"
      },
      "execution_count": null,
      "outputs": [
        {
          "output_type": "stream",
          "name": "stdout",
          "text": [
            "Requirement already satisfied: skl2onnx in /usr/local/lib/python3.10/dist-packages (1.17.0)\n",
            "Requirement already satisfied: onnx>=1.2.1 in /usr/local/lib/python3.10/dist-packages (from skl2onnx) (1.17.0)\n",
            "Requirement already satisfied: scikit-learn>=1.1 in /usr/local/lib/python3.10/dist-packages (from skl2onnx) (1.5.2)\n",
            "Requirement already satisfied: onnxconverter-common>=1.7.0 in /usr/local/lib/python3.10/dist-packages (from skl2onnx) (1.14.0)\n",
            "Requirement already satisfied: numpy>=1.20 in /usr/local/lib/python3.10/dist-packages (from onnx>=1.2.1->skl2onnx) (1.26.4)\n",
            "Requirement already satisfied: protobuf>=3.20.2 in /usr/local/lib/python3.10/dist-packages (from onnx>=1.2.1->skl2onnx) (3.20.2)\n",
            "Requirement already satisfied: packaging in /usr/local/lib/python3.10/dist-packages (from onnxconverter-common>=1.7.0->skl2onnx) (24.1)\n",
            "Requirement already satisfied: scipy>=1.6.0 in /usr/local/lib/python3.10/dist-packages (from scikit-learn>=1.1->skl2onnx) (1.13.1)\n",
            "Requirement already satisfied: joblib>=1.2.0 in /usr/local/lib/python3.10/dist-packages (from scikit-learn>=1.1->skl2onnx) (1.4.2)\n",
            "Requirement already satisfied: threadpoolctl>=3.1.0 in /usr/local/lib/python3.10/dist-packages (from scikit-learn>=1.1->skl2onnx) (3.5.0)\n"
          ]
        }
      ]
    },
    {
      "cell_type": "code",
      "execution_count": null,
      "metadata": {
        "colab": {
          "base_uri": "https://localhost:8080/"
        },
        "id": "kaipku75aN3j",
        "outputId": "686766f5-b9cf-4cfe-fd28-8a3209709a4a"
      },
      "outputs": [
        {
          "output_type": "stream",
          "name": "stdout",
          "text": [
            "Mounted at /content/drive/\n"
          ]
        }
      ],
      "source": [
        "import pandas as pd\n",
        "from sklearn import svm\n",
        "from sklearn.model_selection import train_test_split\n",
        "from sklearn.metrics import confusion_matrix, ConfusionMatrixDisplay\n",
        "from sklearn import metrics\n",
        "from skl2onnx import to_onnx\n",
        "from google.colab import drive\n",
        "\n",
        "drive.mount('/content/drive/')\n",
        "path = 'replace with path to folder with data files/' #Defining the path"
      ]
    },
    {
      "cell_type": "code",
      "source": [
        "col_names = ['CH1','LABEL']\n",
        "csvData = pd.read_csv(path+\"SensorData.csv\", header=None, names=col_names)"
      ],
      "metadata": {
        "id": "x_zvb0wgaYsC"
      },
      "execution_count": null,
      "outputs": []
    },
    {
      "cell_type": "code",
      "source": [
        "sensors = ['CH1']  # The channel containing sensor data, i.e. the independent variables\n",
        "X = csvData[sensors] # The independent variables (i.e. the EMG signals) from each channel that reflect either rest or muscle activation\n",
        "Y = csvData.LABEL # The dependent variable, which states whether the corresponding data is 'positive' or 'negative'\n",
        "# Splits the data into training and testing groups\n",
        "X_train, X_test, Y_train, Y_test = train_test_split(X, Y, test_size=0.2) # 80% training and 20% test"
      ],
      "metadata": {
        "id": "UNdPC8YbquZF"
      },
      "execution_count": null,
      "outputs": []
    },
    {
      "cell_type": "code",
      "source": [
        "clf = svm.SVC() # Creates the SVM classifier object\n",
        "clf.fit(X_train, Y_train) # Trains the classifier on the training dataset\n",
        "\n",
        "# This block of code saves the model to an ONNX file in the same drive folder as the data files.\n",
        "# Code based on documentation example:  https://onnx.ai/sklearn-onnx/index.html\n",
        "onx = to_onnx(clf, X[:1])\n",
        "with open(path+\"svm.onnx\", \"wb\") as f:\n",
        "    f.write(onx.SerializeToString())\n",
        "\n",
        "# Tests the SVM classifier on the test dataset\n",
        "Y_pred = clf.predict(X_test)"
      ],
      "metadata": {
        "id": "Oiknlx2pq1rY"
      },
      "execution_count": null,
      "outputs": []
    },
    {
      "cell_type": "code",
      "source": [
        "cf = confusion_matrix(Y_test, Y_pred, labels=clf.classes_)  # Creates a confusion matrix object using the test results\n",
        "conf_display = ConfusionMatrixDisplay(confusion_matrix = cf, display_labels = clf.classes_) # Loads the confusion matrix into a display\n",
        "\n",
        "print(\"Accuracy:\",metrics.accuracy_score(Y_test, Y_pred)) # Prints the accuracy of the model as tested against the test dataset\n",
        "\n",
        "conf_display.plot() # Plots the confusion matrix"
      ],
      "metadata": {
        "id": "eQsKDt5XrEkH"
      },
      "execution_count": null,
      "outputs": []
    }
  ]
}
